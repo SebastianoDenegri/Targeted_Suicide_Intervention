{
 "cells": [
  {
   "cell_type": "markdown",
   "id": "ca95dfa9",
   "metadata": {},
   "source": [
    "# Data for Good: predicting suicidal behavior likelihood among Reddit users using Deep Learning"
   ]
  },
  {
   "cell_type": "markdown",
   "id": "1ef6803d",
   "metadata": {},
   "source": [
    "*Deep Learning and Reinforcement Learning Course Project (part of IBM Machine Learning Professional Certificate on Coursera).*"
   ]
  },
  {
   "cell_type": "markdown",
   "id": "de1c0a05",
   "metadata": {},
   "source": [
    ">*No one is useless in this world who lightens the burdens of another.*  \n",
    "― **Charles Dickens**"
   ]
  },
  {
   "cell_type": "markdown",
   "id": "d3cfd11e",
   "metadata": {},
   "source": [
    "<img src='https://www.discover-norway.no/upload/images/-development/header/desktop/kul_munch/edvard%20munch%20the%20scream%201893_munchmmuseet.jpg'></img>"
   ]
  }
 ],
 "metadata": {
  "kernelspec": {
   "display_name": "Python 3 (ipykernel)",
   "language": "python",
   "name": "python3"
  },
  "language_info": {
   "codemirror_mode": {
    "name": "ipython",
    "version": 3
   },
   "file_extension": ".py",
   "mimetype": "text/x-python",
   "name": "python",
   "nbconvert_exporter": "python",
   "pygments_lexer": "ipython3",
   "version": "3.8.13"
  }
 },
 "nbformat": 4,
 "nbformat_minor": 5
}
