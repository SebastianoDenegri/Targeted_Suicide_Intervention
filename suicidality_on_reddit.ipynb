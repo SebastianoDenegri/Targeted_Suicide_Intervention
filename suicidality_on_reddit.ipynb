{
 "cells": [
  {
   "cell_type": "markdown",
   "id": "4b609996",
   "metadata": {},
   "source": [
    "# Data for Good: predicting suicidal behavior likelihood among Reddit users using Deep Learning"
   ]
  },
  {
   "cell_type": "markdown",
   "id": "8a4467bd",
   "metadata": {},
   "source": [
    "*Deep Learning and Reinforcement Learning Course Project (part of IBM Machine Learning Professional Certificate on Coursera).*"
   ]
  },
  {
   "cell_type": "markdown",
   "id": "a8c014e6",
   "metadata": {},
   "source": [
    ">*No one is useless in this world who lightens the burdens of another.*  \n",
    "― **Charles Dickens**"
   ]
  },
  {
   "cell_type": "markdown",
   "id": "208c896b",
   "metadata": {},
   "source": [
    "<img src='https://www.discover-norway.no/upload/images/-development/header/desktop/kul_munch/edvard%20munch%20the%20scream%201893_munchmmuseet.jpg'></img>"
   ]
  },
  {
   "cell_type": "markdown",
   "id": "e845728e",
   "metadata": {},
   "source": [
    "## Table of contents\n",
    "1. [Introduction: the project](#project)  \n",
    "2. [Methodology](#methodology)  \n",
    "3. [Data Understanding](#data)  \n",
    "  3.1. [Data Cleaning](#cleaning)  \n",
    "  3.2. [Exploratory Data Aanalysis](#eda)  \n",
    "  3.3. [Data Preparation](#preparation)  \n",
    "4. [Model Development: Recurrent Neural Network](#model)  \n",
    "  3.1. [...](#kmeans)  \n",
    "  3.2. [...](#hac)  \n",
    "  3.3. [...](#dbscan)  \n",
    "5. [Results](#results)  \n",
    "6. [Discussion](#discussion)  \n",
    "7. [Conclusion](#conclusion)  \n",
    "  7.1. [Project Summary](#summary)  \n",
    "  7.2. [Outcome of the Analysis](#outcome)  \n",
    "  7.3. [Potential Developments](#developments)"
   ]
  },
  {
   "cell_type": "code",
   "execution_count": null,
   "id": "7fe2329a",
   "metadata": {},
   "outputs": [],
   "source": []
  }
 ],
 "metadata": {
  "kernelspec": {
   "display_name": "Python 3 (ipykernel)",
   "language": "python",
   "name": "python3"
  },
  "language_info": {
   "codemirror_mode": {
    "name": "ipython",
    "version": 3
   },
   "file_extension": ".py",
   "mimetype": "text/x-python",
   "name": "python",
   "nbconvert_exporter": "python",
   "pygments_lexer": "ipython3",
   "version": "3.8.13"
  }
 },
 "nbformat": 4,
 "nbformat_minor": 5
}
