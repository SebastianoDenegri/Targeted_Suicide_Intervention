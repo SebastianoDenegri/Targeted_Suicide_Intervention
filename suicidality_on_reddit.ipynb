{
 "cells": [
  {
   "cell_type": "markdown",
   "id": "6aadf730",
   "metadata": {},
   "source": [
    "# Data for Good: predicting suicidal behavior likelihood among Reddit users using Deep Learning"
   ]
  },
  {
   "cell_type": "markdown",
   "id": "b0ce7a8c",
   "metadata": {},
   "source": [
    "*Deep Learning and Reinforcement Learning Course Project (part of IBM Machine Learning Professional Certificate on Coursera).*"
   ]
  },
  {
   "cell_type": "markdown",
   "id": "1818a8f3",
   "metadata": {},
   "source": [
    ">*No one is useless in this world who lightens the burdens of another.*  \n",
    "― **Charles Dickens**"
   ]
  },
  {
   "cell_type": "markdown",
   "id": "7b5af5c4",
   "metadata": {},
   "source": [
    "<img src='https://www.discover-norway.no/upload/images/-development/header/desktop/kul_munch/edvard%20munch%20the%20scream%201893_munchmmuseet.jpg'></img>"
   ]
  },
  {
   "cell_type": "markdown",
   "id": "9f1cc446",
   "metadata": {},
   "source": [
    "## Table of contents\n",
    "1. [Introduction: the project](#project)  \n",
    "2. [Methodology](#methodology)  \n",
    "3. [Data Understanding](#data)  \n",
    "  3.1. [Data Cleaning](#cleaning)  \n",
    "  3.2. [Exploratory Data Aanalysis](#eda)  \n",
    "  3.3. [Data Preparation](#preparation)  \n",
    "4. [Model Development: Recurrent Neural Network](#model)  \n",
    "  3.1. [...](#kmeans)  \n",
    "  3.2. [...](#hac)  \n",
    "  3.3. [...](#dbscan)  \n",
    "5. [Results](#results)  \n",
    "6. [Discussion](#discussion)  \n",
    "7. [Conclusion](#conclusion)  \n",
    "  7.1. [Project Summary](#summary)  \n",
    "  7.2. [Outcome of the Analysis](#outcome)  \n",
    "  7.3. [Potential Developments](#developments)"
   ]
  },
  {
   "cell_type": "markdown",
   "id": "9dddbcd6",
   "metadata": {},
   "source": [
    "---"
   ]
  },
  {
   "cell_type": "code",
   "execution_count": 2,
   "id": "283de9c8",
   "metadata": {},
   "outputs": [],
   "source": [
    "import pandas as pd\n",
    "data = pd.read_csv(r'500_anonymized_Reddit_users_posts_labels.csv')"
   ]
  },
  {
   "cell_type": "code",
   "execution_count": 3,
   "id": "315e5b90",
   "metadata": {},
   "outputs": [
    {
     "data": {
      "text/html": [
       "<div>\n",
       "<style scoped>\n",
       "    .dataframe tbody tr th:only-of-type {\n",
       "        vertical-align: middle;\n",
       "    }\n",
       "\n",
       "    .dataframe tbody tr th {\n",
       "        vertical-align: top;\n",
       "    }\n",
       "\n",
       "    .dataframe thead th {\n",
       "        text-align: right;\n",
       "    }\n",
       "</style>\n",
       "<table border=\"1\" class=\"dataframe\">\n",
       "  <thead>\n",
       "    <tr style=\"text-align: right;\">\n",
       "      <th></th>\n",
       "      <th>User</th>\n",
       "      <th>Post</th>\n",
       "      <th>Label</th>\n",
       "    </tr>\n",
       "  </thead>\n",
       "  <tbody>\n",
       "    <tr>\n",
       "      <th>0</th>\n",
       "      <td>user-0</td>\n",
       "      <td>['Its not a viable option, and youll be leavin...</td>\n",
       "      <td>Supportive</td>\n",
       "    </tr>\n",
       "    <tr>\n",
       "      <th>1</th>\n",
       "      <td>user-1</td>\n",
       "      <td>['It can be hard to appreciate the notion that...</td>\n",
       "      <td>Ideation</td>\n",
       "    </tr>\n",
       "    <tr>\n",
       "      <th>2</th>\n",
       "      <td>user-2</td>\n",
       "      <td>['Hi, so last night i was sitting on the ledge...</td>\n",
       "      <td>Behavior</td>\n",
       "    </tr>\n",
       "    <tr>\n",
       "      <th>3</th>\n",
       "      <td>user-3</td>\n",
       "      <td>['I tried to kill my self once and failed badl...</td>\n",
       "      <td>Attempt</td>\n",
       "    </tr>\n",
       "    <tr>\n",
       "      <th>4</th>\n",
       "      <td>user-4</td>\n",
       "      <td>['Hi NEM3030. What sorts of things do you enjo...</td>\n",
       "      <td>Ideation</td>\n",
       "    </tr>\n",
       "    <tr>\n",
       "      <th>...</th>\n",
       "      <td>...</td>\n",
       "      <td>...</td>\n",
       "      <td>...</td>\n",
       "    </tr>\n",
       "    <tr>\n",
       "      <th>495</th>\n",
       "      <td>user-495</td>\n",
       "      <td>['Its not the end, it just feels that way. Or ...</td>\n",
       "      <td>Supportive</td>\n",
       "    </tr>\n",
       "    <tr>\n",
       "      <th>496</th>\n",
       "      <td>user-496</td>\n",
       "      <td>['It was a skype call, but she ended it and Ve...</td>\n",
       "      <td>Indicator</td>\n",
       "    </tr>\n",
       "    <tr>\n",
       "      <th>497</th>\n",
       "      <td>user-497</td>\n",
       "      <td>['That sounds really weird.Maybe you were Dist...</td>\n",
       "      <td>Supportive</td>\n",
       "    </tr>\n",
       "    <tr>\n",
       "      <th>498</th>\n",
       "      <td>user-498</td>\n",
       "      <td>['Dont know there as dumb as it sounds I feel ...</td>\n",
       "      <td>Attempt</td>\n",
       "    </tr>\n",
       "    <tr>\n",
       "      <th>499</th>\n",
       "      <td>user-499</td>\n",
       "      <td>['&amp;gt;It gets better, trust me.Ive spent long ...</td>\n",
       "      <td>Behavior</td>\n",
       "    </tr>\n",
       "  </tbody>\n",
       "</table>\n",
       "<p>500 rows × 3 columns</p>\n",
       "</div>"
      ],
      "text/plain": [
       "         User                                               Post       Label\n",
       "0      user-0  ['Its not a viable option, and youll be leavin...  Supportive\n",
       "1      user-1  ['It can be hard to appreciate the notion that...    Ideation\n",
       "2      user-2  ['Hi, so last night i was sitting on the ledge...    Behavior\n",
       "3      user-3  ['I tried to kill my self once and failed badl...     Attempt\n",
       "4      user-4  ['Hi NEM3030. What sorts of things do you enjo...    Ideation\n",
       "..        ...                                                ...         ...\n",
       "495  user-495  ['Its not the end, it just feels that way. Or ...  Supportive\n",
       "496  user-496  ['It was a skype call, but she ended it and Ve...   Indicator\n",
       "497  user-497  ['That sounds really weird.Maybe you were Dist...  Supportive\n",
       "498  user-498  ['Dont know there as dumb as it sounds I feel ...     Attempt\n",
       "499  user-499  ['&gt;It gets better, trust me.Ive spent long ...    Behavior\n",
       "\n",
       "[500 rows x 3 columns]"
      ]
     },
     "execution_count": 3,
     "metadata": {},
     "output_type": "execute_result"
    }
   ],
   "source": [
    "data"
   ]
  },
  {
   "cell_type": "code",
   "execution_count": 6,
   "id": "276e9883",
   "metadata": {},
   "outputs": [
    {
     "data": {
      "text/html": [
       "<div>\n",
       "<style scoped>\n",
       "    .dataframe tbody tr th:only-of-type {\n",
       "        vertical-align: middle;\n",
       "    }\n",
       "\n",
       "    .dataframe tbody tr th {\n",
       "        vertical-align: top;\n",
       "    }\n",
       "\n",
       "    .dataframe thead th {\n",
       "        text-align: right;\n",
       "    }\n",
       "</style>\n",
       "<table border=\"1\" class=\"dataframe\">\n",
       "  <thead>\n",
       "    <tr style=\"text-align: right;\">\n",
       "      <th></th>\n",
       "      <th>User</th>\n",
       "      <th>Post</th>\n",
       "      <th>Label</th>\n",
       "    </tr>\n",
       "  </thead>\n",
       "  <tbody>\n",
       "    <tr>\n",
       "      <th>26</th>\n",
       "      <td>user-26</td>\n",
       "      <td>['So your place could use a cleaning, I dont t...</td>\n",
       "      <td>Indicator</td>\n",
       "    </tr>\n",
       "    <tr>\n",
       "      <th>27</th>\n",
       "      <td>user-27</td>\n",
       "      <td>['Thanks for the effort, but you missed the po...</td>\n",
       "      <td>Ideation</td>\n",
       "    </tr>\n",
       "  </tbody>\n",
       "</table>\n",
       "</div>"
      ],
      "text/plain": [
       "       User                                               Post      Label\n",
       "26  user-26  ['So your place could use a cleaning, I dont t...  Indicator\n",
       "27  user-27  ['Thanks for the effort, but you missed the po...   Ideation"
      ]
     },
     "execution_count": 6,
     "metadata": {},
     "output_type": "execute_result"
    }
   ],
   "source": [
    "data.loc[26:27]"
   ]
  },
  {
   "cell_type": "code",
   "execution_count": 9,
   "id": "1f6349e6",
   "metadata": {},
   "outputs": [
    {
     "data": {
      "text/html": [
       "<div>\n",
       "<style scoped>\n",
       "    .dataframe tbody tr th:only-of-type {\n",
       "        vertical-align: middle;\n",
       "    }\n",
       "\n",
       "    .dataframe tbody tr th {\n",
       "        vertical-align: top;\n",
       "    }\n",
       "\n",
       "    .dataframe thead th {\n",
       "        text-align: right;\n",
       "    }\n",
       "</style>\n",
       "<table border=\"1\" class=\"dataframe\">\n",
       "  <thead>\n",
       "    <tr style=\"text-align: right;\">\n",
       "      <th></th>\n",
       "      <th>User</th>\n",
       "      <th>Post</th>\n",
       "      <th>Label</th>\n",
       "    </tr>\n",
       "  </thead>\n",
       "  <tbody>\n",
       "    <tr>\n",
       "      <th>76</th>\n",
       "      <td>user-76</td>\n",
       "      <td>['Haha, as they say you can do anything you pu...</td>\n",
       "      <td>Supportive</td>\n",
       "    </tr>\n",
       "    <tr>\n",
       "      <th>77</th>\n",
       "      <td>user-77</td>\n",
       "      <td>['Then lets explore that, because self-hate is...</td>\n",
       "      <td>Behavior</td>\n",
       "    </tr>\n",
       "    <tr>\n",
       "      <th>78</th>\n",
       "      <td>user-78</td>\n",
       "      <td>['I really dont think its that limited.  Ive l...</td>\n",
       "      <td>Indicator</td>\n",
       "    </tr>\n",
       "  </tbody>\n",
       "</table>\n",
       "</div>"
      ],
      "text/plain": [
       "       User                                               Post       Label\n",
       "76  user-76  ['Haha, as they say you can do anything you pu...  Supportive\n",
       "77  user-77  ['Then lets explore that, because self-hate is...    Behavior\n",
       "78  user-78  ['I really dont think its that limited.  Ive l...   Indicator"
      ]
     },
     "execution_count": 9,
     "metadata": {},
     "output_type": "execute_result"
    }
   ],
   "source": [
    "data.loc[76:78]"
   ]
  },
  {
   "cell_type": "code",
   "execution_count": 7,
   "id": "7ce26014",
   "metadata": {},
   "outputs": [
    {
     "data": {
      "text/plain": [
       "(500, 3)"
      ]
     },
     "execution_count": 7,
     "metadata": {},
     "output_type": "execute_result"
    }
   ],
   "source": [
    "data.shape"
   ]
  },
  {
   "cell_type": "code",
   "execution_count": 15,
   "id": "4ae942b6",
   "metadata": {},
   "outputs": [],
   "source": [
    "data_1 = pd.read_csv(r'500_Reddit_users_posts_labels.csv')"
   ]
  },
  {
   "cell_type": "code",
   "execution_count": 16,
   "id": "1522a5f0",
   "metadata": {},
   "outputs": [
    {
     "data": {
      "text/html": [
       "<div>\n",
       "<style scoped>\n",
       "    .dataframe tbody tr th:only-of-type {\n",
       "        vertical-align: middle;\n",
       "    }\n",
       "\n",
       "    .dataframe tbody tr th {\n",
       "        vertical-align: top;\n",
       "    }\n",
       "\n",
       "    .dataframe thead th {\n",
       "        text-align: right;\n",
       "    }\n",
       "</style>\n",
       "<table border=\"1\" class=\"dataframe\">\n",
       "  <thead>\n",
       "    <tr style=\"text-align: right;\">\n",
       "      <th></th>\n",
       "      <th>User</th>\n",
       "      <th>Post</th>\n",
       "      <th>Label</th>\n",
       "    </tr>\n",
       "  </thead>\n",
       "  <tbody>\n",
       "    <tr>\n",
       "      <th>0</th>\n",
       "      <td>user-0</td>\n",
       "      <td>['Its not a viable option, and youll be leavin...</td>\n",
       "      <td>Supportive</td>\n",
       "    </tr>\n",
       "    <tr>\n",
       "      <th>1</th>\n",
       "      <td>user-1</td>\n",
       "      <td>['It can be hard to appreciate the notion that...</td>\n",
       "      <td>Ideation</td>\n",
       "    </tr>\n",
       "    <tr>\n",
       "      <th>2</th>\n",
       "      <td>user-2</td>\n",
       "      <td>['Hi, so last night i was sitting on the ledge...</td>\n",
       "      <td>Behavior</td>\n",
       "    </tr>\n",
       "    <tr>\n",
       "      <th>3</th>\n",
       "      <td>user-3</td>\n",
       "      <td>['I tried to kill my self once and failed badl...</td>\n",
       "      <td>Attempt</td>\n",
       "    </tr>\n",
       "    <tr>\n",
       "      <th>4</th>\n",
       "      <td>user-4</td>\n",
       "      <td>['Hi NEM3030. What sorts of things do you enjo...</td>\n",
       "      <td>Ideation</td>\n",
       "    </tr>\n",
       "    <tr>\n",
       "      <th>...</th>\n",
       "      <td>...</td>\n",
       "      <td>...</td>\n",
       "      <td>...</td>\n",
       "    </tr>\n",
       "    <tr>\n",
       "      <th>495</th>\n",
       "      <td>user-495</td>\n",
       "      <td>['Its not the end, it just feels that way. Or ...</td>\n",
       "      <td>Supportive</td>\n",
       "    </tr>\n",
       "    <tr>\n",
       "      <th>496</th>\n",
       "      <td>user-496</td>\n",
       "      <td>['It was a skype call, but she ended it and Ve...</td>\n",
       "      <td>Indicator</td>\n",
       "    </tr>\n",
       "    <tr>\n",
       "      <th>497</th>\n",
       "      <td>user-497</td>\n",
       "      <td>['That sounds really weird.Maybe you were Dist...</td>\n",
       "      <td>Supportive</td>\n",
       "    </tr>\n",
       "    <tr>\n",
       "      <th>498</th>\n",
       "      <td>user-498</td>\n",
       "      <td>['Dont know there as dumb as it sounds I feel ...</td>\n",
       "      <td>Attempt</td>\n",
       "    </tr>\n",
       "    <tr>\n",
       "      <th>499</th>\n",
       "      <td>user-499</td>\n",
       "      <td>['&amp;gt;It gets better, trust me.Ive spent long ...</td>\n",
       "      <td>Behavior</td>\n",
       "    </tr>\n",
       "  </tbody>\n",
       "</table>\n",
       "<p>500 rows × 3 columns</p>\n",
       "</div>"
      ],
      "text/plain": [
       "         User                                               Post       Label\n",
       "0      user-0  ['Its not a viable option, and youll be leavin...  Supportive\n",
       "1      user-1  ['It can be hard to appreciate the notion that...    Ideation\n",
       "2      user-2  ['Hi, so last night i was sitting on the ledge...    Behavior\n",
       "3      user-3  ['I tried to kill my self once and failed badl...     Attempt\n",
       "4      user-4  ['Hi NEM3030. What sorts of things do you enjo...    Ideation\n",
       "..        ...                                                ...         ...\n",
       "495  user-495  ['Its not the end, it just feels that way. Or ...  Supportive\n",
       "496  user-496  ['It was a skype call, but she ended it and Ve...   Indicator\n",
       "497  user-497  ['That sounds really weird.Maybe you were Dist...  Supportive\n",
       "498  user-498  ['Dont know there as dumb as it sounds I feel ...     Attempt\n",
       "499  user-499  ['&gt;It gets better, trust me.Ive spent long ...    Behavior\n",
       "\n",
       "[500 rows x 3 columns]"
      ]
     },
     "execution_count": 16,
     "metadata": {},
     "output_type": "execute_result"
    }
   ],
   "source": [
    "data_1"
   ]
  },
  {
   "cell_type": "code",
   "execution_count": 17,
   "id": "62f52d62",
   "metadata": {},
   "outputs": [
    {
     "data": {
      "text/html": [
       "<div>\n",
       "<style scoped>\n",
       "    .dataframe tbody tr th:only-of-type {\n",
       "        vertical-align: middle;\n",
       "    }\n",
       "\n",
       "    .dataframe tbody tr th {\n",
       "        vertical-align: top;\n",
       "    }\n",
       "\n",
       "    .dataframe thead th {\n",
       "        text-align: right;\n",
       "    }\n",
       "</style>\n",
       "<table border=\"1\" class=\"dataframe\">\n",
       "  <thead>\n",
       "    <tr style=\"text-align: right;\">\n",
       "      <th></th>\n",
       "      <th>User</th>\n",
       "      <th>Post</th>\n",
       "      <th>Label</th>\n",
       "    </tr>\n",
       "  </thead>\n",
       "  <tbody>\n",
       "    <tr>\n",
       "      <th>26</th>\n",
       "      <td>user-26</td>\n",
       "      <td>['So your place could use a cleaning, I dont t...</td>\n",
       "      <td>Indicator</td>\n",
       "    </tr>\n",
       "    <tr>\n",
       "      <th>27</th>\n",
       "      <td>user-27</td>\n",
       "      <td>['Thanks for the effort, but you missed the po...</td>\n",
       "      <td>Ideation</td>\n",
       "    </tr>\n",
       "  </tbody>\n",
       "</table>\n",
       "</div>"
      ],
      "text/plain": [
       "       User                                               Post      Label\n",
       "26  user-26  ['So your place could use a cleaning, I dont t...  Indicator\n",
       "27  user-27  ['Thanks for the effort, but you missed the po...   Ideation"
      ]
     },
     "execution_count": 17,
     "metadata": {},
     "output_type": "execute_result"
    }
   ],
   "source": [
    "data_1.loc[26:27]"
   ]
  },
  {
   "cell_type": "code",
   "execution_count": 18,
   "id": "b50d2410",
   "metadata": {},
   "outputs": [
    {
     "data": {
      "text/html": [
       "<div>\n",
       "<style scoped>\n",
       "    .dataframe tbody tr th:only-of-type {\n",
       "        vertical-align: middle;\n",
       "    }\n",
       "\n",
       "    .dataframe tbody tr th {\n",
       "        vertical-align: top;\n",
       "    }\n",
       "\n",
       "    .dataframe thead th {\n",
       "        text-align: right;\n",
       "    }\n",
       "</style>\n",
       "<table border=\"1\" class=\"dataframe\">\n",
       "  <thead>\n",
       "    <tr style=\"text-align: right;\">\n",
       "      <th></th>\n",
       "      <th>User</th>\n",
       "      <th>Post</th>\n",
       "      <th>Label</th>\n",
       "    </tr>\n",
       "  </thead>\n",
       "  <tbody>\n",
       "    <tr>\n",
       "      <th>76</th>\n",
       "      <td>user-76</td>\n",
       "      <td>['Haha, as they say you can do anything you pu...</td>\n",
       "      <td>Supportive</td>\n",
       "    </tr>\n",
       "    <tr>\n",
       "      <th>77</th>\n",
       "      <td>user-77</td>\n",
       "      <td>['Then lets explore that, because self-hate is...</td>\n",
       "      <td>Behavior</td>\n",
       "    </tr>\n",
       "    <tr>\n",
       "      <th>78</th>\n",
       "      <td>user-78</td>\n",
       "      <td>['I really dont think its that limited.  Ive l...</td>\n",
       "      <td>Indicator</td>\n",
       "    </tr>\n",
       "  </tbody>\n",
       "</table>\n",
       "</div>"
      ],
      "text/plain": [
       "       User                                               Post       Label\n",
       "76  user-76  ['Haha, as they say you can do anything you pu...  Supportive\n",
       "77  user-77  ['Then lets explore that, because self-hate is...    Behavior\n",
       "78  user-78  ['I really dont think its that limited.  Ive l...   Indicator"
      ]
     },
     "execution_count": 18,
     "metadata": {},
     "output_type": "execute_result"
    }
   ],
   "source": [
    "data_1.loc[76:78]"
   ]
  },
  {
   "cell_type": "code",
   "execution_count": 19,
   "id": "55d9f1f8",
   "metadata": {},
   "outputs": [
    {
     "data": {
      "text/html": [
       "<div>\n",
       "<style scoped>\n",
       "    .dataframe tbody tr th:only-of-type {\n",
       "        vertical-align: middle;\n",
       "    }\n",
       "\n",
       "    .dataframe tbody tr th {\n",
       "        vertical-align: top;\n",
       "    }\n",
       "\n",
       "    .dataframe thead th {\n",
       "        text-align: right;\n",
       "    }\n",
       "</style>\n",
       "<table border=\"1\" class=\"dataframe\">\n",
       "  <thead>\n",
       "    <tr style=\"text-align: right;\">\n",
       "      <th></th>\n",
       "      <th>User</th>\n",
       "      <th>Post</th>\n",
       "      <th>Label</th>\n",
       "    </tr>\n",
       "  </thead>\n",
       "  <tbody>\n",
       "    <tr>\n",
       "      <th>497</th>\n",
       "      <td>user-497</td>\n",
       "      <td>['That sounds really weird.Maybe you were Dist...</td>\n",
       "      <td>Supportive</td>\n",
       "    </tr>\n",
       "    <tr>\n",
       "      <th>498</th>\n",
       "      <td>user-498</td>\n",
       "      <td>['Dont know there as dumb as it sounds I feel ...</td>\n",
       "      <td>Attempt</td>\n",
       "    </tr>\n",
       "    <tr>\n",
       "      <th>499</th>\n",
       "      <td>user-499</td>\n",
       "      <td>['&amp;gt;It gets better, trust me.Ive spent long ...</td>\n",
       "      <td>Behavior</td>\n",
       "    </tr>\n",
       "  </tbody>\n",
       "</table>\n",
       "</div>"
      ],
      "text/plain": [
       "         User                                               Post       Label\n",
       "497  user-497  ['That sounds really weird.Maybe you were Dist...  Supportive\n",
       "498  user-498  ['Dont know there as dumb as it sounds I feel ...     Attempt\n",
       "499  user-499  ['&gt;It gets better, trust me.Ive spent long ...    Behavior"
      ]
     },
     "execution_count": 19,
     "metadata": {},
     "output_type": "execute_result"
    }
   ],
   "source": [
    "data_1.loc[497:]"
   ]
  },
  {
   "cell_type": "code",
   "execution_count": 20,
   "id": "edb810fc",
   "metadata": {},
   "outputs": [
    {
     "data": {
      "text/plain": [
       "(500, 3)"
      ]
     },
     "execution_count": 20,
     "metadata": {},
     "output_type": "execute_result"
    }
   ],
   "source": [
    "data_1.shape"
   ]
  }
 ],
 "metadata": {
  "kernelspec": {
   "display_name": "Python 3 (ipykernel)",
   "language": "python",
   "name": "python3"
  },
  "language_info": {
   "codemirror_mode": {
    "name": "ipython",
    "version": 3
   },
   "file_extension": ".py",
   "mimetype": "text/x-python",
   "name": "python",
   "nbconvert_exporter": "python",
   "pygments_lexer": "ipython3",
   "version": "3.8.13"
  }
 },
 "nbformat": 4,
 "nbformat_minor": 5
}
