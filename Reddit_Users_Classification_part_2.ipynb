{
 "cells": [
  {
   "cell_type": "markdown",
   "id": "048edbcb",
   "metadata": {},
   "source": [
    "# Data for Good: predicting suicidal behavior likelihood among Reddit users using Deep Learning (Part 2)"
   ]
  },
  {
   "cell_type": "markdown",
   "id": "d882e830",
   "metadata": {},
   "source": [
    "*Deep Learning and Reinforcement Learning (part of IBM Machine Learning Professional Certificate) - Course Project.*"
   ]
  },
  {
   "cell_type": "markdown",
   "id": "f3b55a2d",
   "metadata": {},
   "source": [
    ">*No one is useless in this world who lightens the burdens of another.*  \n",
    "― **Charles Dickens**"
   ]
  },
  {
   "cell_type": "markdown",
   "id": "75f6b1f4",
   "metadata": {},
   "source": [
    "<img src='https://www.discover-norway.no/upload/images/-development/header/desktop/kul_munch/edvard%20munch%20the%20scream%201893_munchmmuseet.jpg'></img>"
   ]
  },
  {
   "cell_type": "markdown",
   "id": "fc6cca70",
   "metadata": {},
   "source": [
    "## Table of contents\n",
    "1. [Introduction: the project](#project)  \n",
    "2. [Methodology](#methodology)  \n",
    "3. [Data Understanding](#data)  \n",
    "  3.1. [Data Cleaning](#cleaning)  \n",
    "  3.2. [Exploratory Data Analysis](#eda)  \n",
    "  3.3. [Data Preparation](#preparation)  \n",
    "4. [Model Development: Recurrent Neural Network](#model)  \n",
    "  3.1. [...](#kmeans)  \n",
    "  3.2. [...](#hac)  \n",
    "  3.3. [...](#dbscan)  \n",
    "5. [Results](#results)  \n",
    "6. [Discussion](#discussion)  \n",
    "7. [Conclusion](#conclusion)  \n",
    "  7.1. [Project Summary](#summary)  \n",
    "  7.2. [Outcome of the Analysis](#outcome)  \n",
    "  7.3. [Potential Developments](#developments)"
   ]
  },
  {
   "cell_type": "markdown",
   "id": "6305e15f",
   "metadata": {},
   "source": [
    "## Data Pre-Processing"
   ]
  },
  {
   "cell_type": "code",
   "execution_count": 1,
   "id": "8b50ebac",
   "metadata": {},
   "outputs": [],
   "source": [
    "import keras"
   ]
  },
  {
   "cell_type": "code",
   "execution_count": null,
   "id": "fc4affa2",
   "metadata": {},
   "outputs": [],
   "source": []
  },
  {
   "cell_type": "markdown",
   "id": "2868ad06",
   "metadata": {},
   "source": [
    "---"
   ]
  },
  {
   "cell_type": "markdown",
   "id": "8819a305",
   "metadata": {},
   "source": [
    "## 1. Introduction: the project <a name=project></a>"
   ]
  },
  {
   "cell_type": "markdown",
   "id": "ff24f321",
   "metadata": {},
   "source": [
    "Data for good means using Data Science and Machine Learning tools outside of the for-profit sector, to help Non-profits, NGOs, or any other organization or individual, leverage the power of data for good causes and to improve the life of others.\n",
    "\n",
    "There are many ways to use the power of Data Science for good: data can be used to solve social issues, environmental problems, enhance community security as well as support people in need. Nowadays, the use of Social Media, forums or news aggregation websites is massively widespread, with people sharing plenty of details about their life. Some people also use internet to share very serious issues, as a cry for help.  \n",
    "**The scope of this project is using the content created by the users themselves, in an online community, to analyze underlying mental health issues, and try to predict suicidal behavior likelihood among anonymized users.**\n",
    "\n",
    "The algorithm, if successful, can be used for **targeted suicide intervention:** identify those people at highest risk of self-harm or suicide, so that actions can be undertaken to provide help and support in a timely-fashioned and sustained manner."
   ]
  },
  {
   "cell_type": "markdown",
   "id": "c9f47e6c",
   "metadata": {},
   "source": [
    "## 2. Methodology <a name=methodology></a>"
   ]
  },
  {
   "cell_type": "markdown",
   "id": "9d07ebb4",
   "metadata": {},
   "source": [
    "Based on the project requirement, I'll follow a **predictive analytic approach aimed to correctly classify user posts into the correct category.**\n",
    "\n",
    "To deliver reliable results, I'll follow the <a href='https://en.wikipedia.org/wiki/Cross-industry_standard_process_for_data_mining'>**Cross-Industry Standard Process for Data Mining (CRISP-DM)**</a>, which consists of the following steps:  \n",
    "1. **Business Understanding** (see the Introduction section)  \n",
    "2. **Data Understanding**: data cleaning and exploratory data analysis.  \n",
    "3. **Data Preparation**: transform data into a usable dataset for modeling.  \n",
    "4. **Modeling**: I 'll build 3 Deep Learning models, using the Recurrent Neural Network class:  \n",
    "   4.1. Simple Recurrent Neural Network, with an additional Dense layer to output the predicted classification.  \n",
    "   4.2. Long-Short Term Memory (LSTM) Networks  \n",
    "   4.3. Gated Recurrent Unit (GRU) Networks  \n",
    "5. **Evaluation**: model performances will be evaluated using the following metrics: loss function, Jaccard Index (Accuracy Score), Confusion Matrix, Classification Report, Precision/Recall, F1-Score (curves like ROC or precision-recall, but in am not sure I can use curves for multi-class classification) as well as visually inspecting the model results."
   ]
  },
  {
   "cell_type": "markdown",
   "id": "4b003ebd",
   "metadata": {},
   "source": [
    "## 3. Data Understanding <a name=data></a>"
   ]
  },
  {
   "cell_type": "code",
   "execution_count": 1,
   "id": "cc74bbea",
   "metadata": {},
   "outputs": [],
   "source": [
    "import pandas as pd\n",
    "pd.set_option('display.max_colwidth', 50)\n",
    "import random\n",
    "from random import randrange, seed"
   ]
  },
  {
   "cell_type": "code",
   "execution_count": 2,
   "id": "3f5863d2",
   "metadata": {},
   "outputs": [
    {
     "data": {
      "text/html": [
       "<div>\n",
       "<style scoped>\n",
       "    .dataframe tbody tr th:only-of-type {\n",
       "        vertical-align: middle;\n",
       "    }\n",
       "\n",
       "    .dataframe tbody tr th {\n",
       "        vertical-align: top;\n",
       "    }\n",
       "\n",
       "    .dataframe thead th {\n",
       "        text-align: right;\n",
       "    }\n",
       "</style>\n",
       "<table border=\"1\" class=\"dataframe\">\n",
       "  <thead>\n",
       "    <tr style=\"text-align: right;\">\n",
       "      <th></th>\n",
       "      <th>User</th>\n",
       "      <th>Post</th>\n",
       "      <th>Label</th>\n",
       "    </tr>\n",
       "  </thead>\n",
       "  <tbody>\n",
       "    <tr>\n",
       "      <th>0</th>\n",
       "      <td>user-0</td>\n",
       "      <td>['Its not a viable option, and youll be leavin...</td>\n",
       "      <td>Supportive</td>\n",
       "    </tr>\n",
       "    <tr>\n",
       "      <th>1</th>\n",
       "      <td>user-1</td>\n",
       "      <td>['It can be hard to appreciate the notion that...</td>\n",
       "      <td>Ideation</td>\n",
       "    </tr>\n",
       "    <tr>\n",
       "      <th>2</th>\n",
       "      <td>user-2</td>\n",
       "      <td>['Hi, so last night i was sitting on the ledge...</td>\n",
       "      <td>Behavior</td>\n",
       "    </tr>\n",
       "    <tr>\n",
       "      <th>3</th>\n",
       "      <td>user-3</td>\n",
       "      <td>['I tried to kill my self once and failed badl...</td>\n",
       "      <td>Attempt</td>\n",
       "    </tr>\n",
       "    <tr>\n",
       "      <th>4</th>\n",
       "      <td>user-4</td>\n",
       "      <td>['Hi NEM3030. What sorts of things do you enjo...</td>\n",
       "      <td>Ideation</td>\n",
       "    </tr>\n",
       "  </tbody>\n",
       "</table>\n",
       "</div>"
      ],
      "text/plain": [
       "     User                                               Post       Label\n",
       "0  user-0  ['Its not a viable option, and youll be leavin...  Supportive\n",
       "1  user-1  ['It can be hard to appreciate the notion that...    Ideation\n",
       "2  user-2  ['Hi, so last night i was sitting on the ledge...    Behavior\n",
       "3  user-3  ['I tried to kill my self once and failed badl...     Attempt\n",
       "4  user-4  ['Hi NEM3030. What sorts of things do you enjo...    Ideation"
      ]
     },
     "execution_count": 2,
     "metadata": {},
     "output_type": "execute_result"
    }
   ],
   "source": [
    "data = pd.read_csv(r'500_Reddit_users_posts_labels.csv')\n",
    "data.head()"
   ]
  },
  {
   "cell_type": "code",
   "execution_count": 3,
   "id": "b58e3eb3",
   "metadata": {},
   "outputs": [
    {
     "data": {
      "text/html": [
       "<div>\n",
       "<style scoped>\n",
       "    .dataframe tbody tr th:only-of-type {\n",
       "        vertical-align: middle;\n",
       "    }\n",
       "\n",
       "    .dataframe tbody tr th {\n",
       "        vertical-align: top;\n",
       "    }\n",
       "\n",
       "    .dataframe thead th {\n",
       "        text-align: right;\n",
       "    }\n",
       "</style>\n",
       "<table border=\"1\" class=\"dataframe\">\n",
       "  <thead>\n",
       "    <tr style=\"text-align: right;\">\n",
       "      <th></th>\n",
       "      <th>User</th>\n",
       "      <th>Post</th>\n",
       "      <th>Label</th>\n",
       "    </tr>\n",
       "  </thead>\n",
       "  <tbody>\n",
       "    <tr>\n",
       "      <th>495</th>\n",
       "      <td>user-495</td>\n",
       "      <td>['Its not the end, it just feels that way. Or ...</td>\n",
       "      <td>Supportive</td>\n",
       "    </tr>\n",
       "    <tr>\n",
       "      <th>496</th>\n",
       "      <td>user-496</td>\n",
       "      <td>['It was a skype call, but she ended it and Ve...</td>\n",
       "      <td>Indicator</td>\n",
       "    </tr>\n",
       "    <tr>\n",
       "      <th>497</th>\n",
       "      <td>user-497</td>\n",
       "      <td>['That sounds really weird.Maybe you were Dist...</td>\n",
       "      <td>Supportive</td>\n",
       "    </tr>\n",
       "    <tr>\n",
       "      <th>498</th>\n",
       "      <td>user-498</td>\n",
       "      <td>['Dont know there as dumb as it sounds I feel ...</td>\n",
       "      <td>Attempt</td>\n",
       "    </tr>\n",
       "    <tr>\n",
       "      <th>499</th>\n",
       "      <td>user-499</td>\n",
       "      <td>['&amp;gt;It gets better, trust me.Ive spent long ...</td>\n",
       "      <td>Behavior</td>\n",
       "    </tr>\n",
       "  </tbody>\n",
       "</table>\n",
       "</div>"
      ],
      "text/plain": [
       "         User                                               Post       Label\n",
       "495  user-495  ['Its not the end, it just feels that way. Or ...  Supportive\n",
       "496  user-496  ['It was a skype call, but she ended it and Ve...   Indicator\n",
       "497  user-497  ['That sounds really weird.Maybe you were Dist...  Supportive\n",
       "498  user-498  ['Dont know there as dumb as it sounds I feel ...     Attempt\n",
       "499  user-499  ['&gt;It gets better, trust me.Ive spent long ...    Behavior"
      ]
     },
     "execution_count": 3,
     "metadata": {},
     "output_type": "execute_result"
    }
   ],
   "source": [
    "data.tail()"
   ]
  },
  {
   "cell_type": "code",
   "execution_count": 4,
   "id": "4f4391cb",
   "metadata": {},
   "outputs": [
    {
     "name": "stdout",
     "output_type": "stream",
     "text": [
      "Number of tuples in the dataset : 500. Number of attributes in the dataset: 3.\n"
     ]
    }
   ],
   "source": [
    "print('Number of tuples in the dataset : {}. Number of attributes in the dataset: {}.'.format(data.shape[0], data.shape[1]))"
   ]
  },
  {
   "cell_type": "code",
   "execution_count": 5,
   "id": "5062af66",
   "metadata": {},
   "outputs": [
    {
     "data": {
      "text/plain": [
       "Index(['User', 'Post', 'Label'], dtype='object')"
      ]
     },
     "execution_count": 5,
     "metadata": {},
     "output_type": "execute_result"
    }
   ],
   "source": [
    "data.columns"
   ]
  },
  {
   "cell_type": "code",
   "execution_count": 6,
   "id": "e3487739",
   "metadata": {},
   "outputs": [
    {
     "data": {
      "text/plain": [
       "User     object\n",
       "Post     object\n",
       "Label    object\n",
       "dtype: object"
      ]
     },
     "execution_count": 6,
     "metadata": {},
     "output_type": "execute_result"
    }
   ],
   "source": [
    "data.dtypes"
   ]
  },
  {
   "cell_type": "code",
   "execution_count": 7,
   "id": "c28dc187",
   "metadata": {},
   "outputs": [
    {
     "name": "stdout",
     "output_type": "stream",
     "text": [
      "Number of unique values in column \"User\": 500\n",
      "Number of unique values in column \"Post\": 500\n",
      "Number of unique values in column \"Label\": 5\n"
     ]
    }
   ],
   "source": [
    "print('Number of unique values in column \"{}\": {}'.format(data.columns[0], data['User'].nunique()))\n",
    "print('Number of unique values in column \"{}\": {}'.format(data.columns[1], data['Post'].nunique()))\n",
    "print('Number of unique values in column \"{}\": {}'.format(data.columns[2], data['Label'].nunique()))"
   ]
  },
  {
   "cell_type": "code",
   "execution_count": 8,
   "id": "80844bad",
   "metadata": {},
   "outputs": [
    {
     "name": "stdout",
     "output_type": "stream",
     "text": [
      "Unique values in column \"Label\": ['Supportive' 'Ideation' 'Behavior' 'Attempt' 'Indicator']\n"
     ]
    }
   ],
   "source": [
    "print('Unique values in column \"Label\":',data['Label'].unique())"
   ]
  },
  {
   "cell_type": "markdown",
   "id": "2ed2ce52",
   "metadata": {},
   "source": [
    "Let's print the posts from one random user from each one of the labels."
   ]
  },
  {
   "cell_type": "code",
   "execution_count": 9,
   "id": "a2d4e2b0",
   "metadata": {
    "scrolled": false
   },
   "outputs": [
    {
     "name": "stdout",
     "output_type": "stream",
     "text": [
      "Posts from a user labelled as \"Supportive\":\n",
      "\n",
      "user-29:\n",
      "['Then maybe returningt there might be the first step. You should be w/ the family of your choice, not w/ people who clearly dont want the best for you. You should take care of yourself for a while and while doing that maybe also put some distance between you and that girl - it might help you to put things into perspective. Stay strong!', 'No matter whether you believe in fate or God or anything: that misfiring gun was a SIGN and Im really thankful for it. I hope you can use this extreme experience to your advantage!', 'Scumbag brain... Sees something beautiful and uplifting: yanks the tear ducts wiiide open...', 'Please dont feel guilty. You have a disease and it is so strong that even your partners love cant seem to stop it. Its not your fault and its not an unusual thing to happen. Maybe its really for the best if you outsource the job of taking care of you. That could take the feeling of guilt off your shoulders and also relieve your partner of some of his responsibility. You have two great things working for you at the moment: the fact that amazingly human beings care for each other unconditionally and are even able to forgive the worst-seeming things. Plus, the will to live that you expressed in your last paragraph. Its there, its true. Cling to these things with all the strength you still have, thats all you have to do, the other things are out of reach at the moment, you can care about them once you feel better.   Get well soon!', 'Its unfair that many people can just leave their beds w/o problems. It may seem like a miracle to you, it sure does to me sometimes. But everyones got special challenges in life and even those who jump our of bed wearing a bright smile each day might be confronted w/ difficulties once they enter a car, make a cake or whatever. Even if not, even if their life seems perfect, they are bound to encounter some rocks on the road eventually. So this is your challenge. Its one of the nastier ones, no question about that. But life functions Tired strangely and so I think you should try to hold on, try to take on day after another, try to battle against all the rocks that are in your way. I know its worth it and Im pretty confident youll find out the same if you just hang in there.']\n"
     ]
    }
   ],
   "source": [
    "print('Posts from a user labelled as \"Supportive\":')\n",
    "print('')\n",
    "random.seed(2)\n",
    "print(data[data.Label == 'Supportive']['User'].iloc[randrange(data[data.Label == 'Supportive'].shape[0])]+':')\n",
    "random.seed(2)\n",
    "print(data[data.Label == 'Supportive']['Post'].iloc[randrange(data[data.Label == 'Supportive'].shape[0])])"
   ]
  },
  {
   "cell_type": "code",
   "execution_count": 10,
   "id": "8a778918",
   "metadata": {},
   "outputs": [
    {
     "name": "stdout",
     "output_type": "stream",
     "text": [
      "Posts from a user labelled as \"Ideation\":\n",
      "\n",
      "user-227:\n",
      "['possibly!sorry about the empty post. its sort of a hard subject to just jump into.basically, ive been constantly Delusional disorder at my uni for the past couple of months, and it has been extremely detrimental to my mental health. its especially bad when doing anything online when i most feel like im being spied on, making it extremely difficult to reach out for help in any way. i had to stop talking with one of my good friends online because the Delusional disorder was so bad.the whole situation makes me want to dissapear because of how much it makes me feel isolated with no chance that things will get better. ']\n"
     ]
    }
   ],
   "source": [
    "print('Posts from a user labelled as \"Ideation\":')\n",
    "print('')\n",
    "random.seed(7)\n",
    "print(data[data.Label == 'Ideation']['User'].iloc[randrange(data[data.Label == 'Ideation'].shape[0])]+':')\n",
    "random.seed(7)\n",
    "print(data[data.Label == 'Ideation']['Post'].iloc[randrange(data[data.Label == 'Ideation'].shape[0])])"
   ]
  },
  {
   "cell_type": "code",
   "execution_count": 11,
   "id": "f0ea61a6",
   "metadata": {
    "scrolled": false
   },
   "outputs": [
    {
     "name": "stdout",
     "output_type": "stream",
     "text": [
      "Posts from a user labelled as \"Behavior\":\n",
      "\n",
      "user-134:\n",
      "['Thank you so much for this.', 'I dont know what to say. I dont even know how to feel or if my emotions are justified. I know that my dad has a right to be frustrated with me. After I lost my job, the bills started to pill on and now theyre hovering over my head like a storm cloud.But its not the fact that Ive lost my job and have no room to my own thats bothering me right now. Its the hurtful things he said to me this morning.Now Im too Anxiety to sleep, I feel worse about myself than I have in the past few weeks. The last time my father hugged me or showed any visible/palpable affection towards me was when I graduated high school five years ago. I had to graduate for him to tell me he was proud of me and that he loved me.Most of the time its static apathy or blatant resentment. There is no warmth there. Im always on eggshells around him. Which hurts even worse because I used to be a real daddys girl. We used to be close, when I was a child and things werent so complicated.Things between us fragmented over the years and I can count the amounts of affection Ive had that are the most memorable.High school graduation being the most recent, the one before that was when I had a panic attack in the car when my brothers and my parents were in it. (I was around 15-16 years old) and I said that if my brothers werent in the car I would have crashed it... I was followed around the house by both of my parents while I looked for something to Pain myself. Finally got a hug and an I love you from him, then... It makes me wonder what measures I have to take to get that sort of attention... Ive been sitting here looking at my own bloodshot eyes in the mirror and wondering if I tried to OD if my dad would be there in the hospital when I woke up. It makes me wonder if hed tell me he loved me. Whats worse is that I dont know if I would believe him at this point.I dont want to die.But I dont want to be around right now, if that makes sense...The closest thing to what I want would be a coma... Somewhere in limbo where my brain can shut down for a while and the world could stop turning in my mind for a second...Im scared. Im sad. And I argue with myself over how pathetic it is to fixate myself on one emotion for hours on end instead of doing something about it.But its a lot like being stuck with your back against a wall, bracing yourself for the impact of an oncoming tidal wave. You want to get out, and you know that when it hits you- youre going to have to fight the tide but at this point Im unsure of just how much strength I have left to try and get myself to the surface when it collides...All I can do is cry. I know it will pass but right now Im just terrified and at a loss.']\n"
     ]
    }
   ],
   "source": [
    "print('Posts from a user labelled as \"Behavior\":')\n",
    "print('')\n",
    "random.seed(8)\n",
    "print(data[data.Label == 'Behavior']['User'].iloc[randrange(data[data.Label == 'Behavior'].shape[0])]+':')\n",
    "random.seed(8)\n",
    "print(data[data.Label == 'Behavior']['Post'].iloc[randrange(data[data.Label == 'Behavior'].shape[0])])"
   ]
  },
  {
   "cell_type": "code",
   "execution_count": 12,
   "id": "9e2f0f7b",
   "metadata": {},
   "outputs": [
    {
     "name": "stdout",
     "output_type": "stream",
     "text": [
      "Posts from a user labelled as \"Attempt\":\n",
      "\n",
      "user-333:\n",
      "['I went through this as well.  During my depression, it was easy to be sad and use the sadness as an excuse to justify my actions.  Although I was in pain, in a way, it was comfortable.  I try to keep myself physically busy to hinder the temptation of being sad and cynical.  Its pretty hard, I hope you go through it well.', 'I hear you.  I woke up in ER after half bottle of vodka and few vicodins.  I laugh about it now.  Failing to kill myself help me abandon all my responsibilities and try a care free life for once.  It was great, but eventually, I realized a person cannot live without tasks or work.', 'Nowadays, it is easier to make money on YouTube.  It is not easy, but easier.  Be consistent and be productive.  It is playing a game, but when it becomes work, it is hard.  Put up few videos every months and eventually, you will get there.', 'I feel the same way.  No desire or passion towards anything.  While Im walking through the abyss, others tell me how Im good and say that they are jealous of my skills.  I only know those things because, ever since I was a child, I looked for my passion.  Interesting, but never fascinating.  I live day to day with simple pleasure such as food and naps.  Who knows, maybe I will find something to do later.  ', 'I feel exactly the same right now.  I wish I didnt exist in the first place so I dont have to Anxiety about killing myself.  It feels good to know Im not the only one.  There was one thing I ever had a passion for, but my parents were not supportive, rather harsh.  However, if you still are in college, take a semester off or a year to cool down.  Perhaps travel, work, or learn something new.  I worked at a factory and it was more Depressed mood than college.  Thus, I got through college.  Although I have nothing go on with, one thing is true: you have more time than I do.  Perhaps, maybe, you can find something to live for instead of becoming a sad pretentious walking sarcasm Hyperactive behavior myself.']\n"
     ]
    }
   ],
   "source": [
    "print('Posts from a user labelled as \"Attempt\":')\n",
    "print('')\n",
    "random.seed(9)\n",
    "print(data[data.Label == 'Attempt']['User'].iloc[randrange(data[data.Label == 'Attempt'].shape[0])]+':')\n",
    "random.seed(9)\n",
    "print(data[data.Label == 'Attempt']['Post'].iloc[randrange(data[data.Label == 'Attempt'].shape[0])])"
   ]
  },
  {
   "cell_type": "code",
   "execution_count": 13,
   "id": "5c6301b0",
   "metadata": {
    "scrolled": false
   },
   "outputs": [
    {
     "name": "stdout",
     "output_type": "stream",
     "text": [
      "Posts from a user labelled as \"Indicator\":\n",
      "\n",
      "user-171:\n",
      "['Ironically social work. I never really had fun with his friends, he was just emotionally stable but really really really lazy. Our friends were mostly people from his program in university, so I never really had too much to talk to them about. I feel so guilty that I dont feel sad that hes gone. I just feel so lonely all the time now. ', 'Still got another two years to go haha. ', 'Yeah I think we can do it, we totally got this! But it is *hard* to be normal. I spend so much time and energy trying to make it appear that my life is groovy and drama free that everything I do these days feels like a lie. How does temporary academic leave work? Thanks so much for the reply.']\n"
     ]
    }
   ],
   "source": [
    "print('Posts from a user labelled as \"Indicator\":')\n",
    "print('')\n",
    "random.seed(15)\n",
    "print(data[data.Label == 'Indicator']['User'].iloc[randrange(data[data.Label == 'Indicator'].shape[0])]+':')\n",
    "random.seed(15)\n",
    "print(data[data.Label == 'Indicator']['Post'].iloc[randrange(data[data.Label == 'Indicator'].shape[0])])"
   ]
  },
  {
   "cell_type": "markdown",
   "id": "16296d5b",
   "metadata": {},
   "source": [
    "Dataset source: <a href='https://www.kaggle.com/datasets/thedevastator/c-ssrs-labeled-suicidality-in-500-anonymized-red'>www.kaggle.com</a>.  \n",
    "\n",
    "The dataset includes posts from 500 redditors that have discussed topics about suicide and mental health illness like depression. The posts have been classified into 5 categories, following a modified version of the guidelines outlined in the Columbia Suicide Severity Rating Scale (C-SSRS).\n",
    "\n",
    "The dataset contains 3 columns for 500 observations, where each column contains text-type data. Columns are as follows:\n",
    "- **User:** a string of characters representing an anonymized Reddit user ID.\n",
    "- **Post:** the text from the user's posts (without no personal information revealed).\n",
    "- **Label:** the class the users has been assigned to, based on their posts' content. Classes are as follows:\n",
    "   - Supportive: users show empathy and support people's feeling, discouraging them from suicidal ideas.\n",
    "   - Ideation: users are going through rough paths, they wish to die or disappear, and they have little hope things get better\n",
    "   - Behavior: users show suicidal behaviors.\n",
    "   - Attempt: users have attempted suicide.\n",
    "   - Indicator: users show some signs of distress like depression, sadness, or other mental health issues."
   ]
  },
  {
   "cell_type": "markdown",
   "id": "e5e8db6c",
   "metadata": {},
   "source": [
    "### 3.1. Data Cleaning <a name=cleaning></a>"
   ]
  },
  {
   "cell_type": "code",
   "execution_count": null,
   "id": "32ad6e88",
   "metadata": {},
   "outputs": [],
   "source": []
  },
  {
   "cell_type": "code",
   "execution_count": 14,
   "id": "6f63ed96",
   "metadata": {},
   "outputs": [
    {
     "name": "stdout",
     "output_type": "stream",
     "text": [
      "Number of duplicate observation in the dataset: 0\n"
     ]
    }
   ],
   "source": [
    "# Looking for duplicates\n",
    "print('Number of duplicate observation in the dataset:',data.duplicated().sum())"
   ]
  },
  {
   "cell_type": "code",
   "execution_count": 15,
   "id": "61cc50c7",
   "metadata": {},
   "outputs": [
    {
     "name": "stdout",
     "output_type": "stream",
     "text": [
      "Number of missing values in the attribute User: 0\n",
      "Number of missing values in the attribute Post: 0\n",
      "Number of missing values in the attribute Label: 0\n"
     ]
    }
   ],
   "source": [
    "# Looking for missing values\n",
    "for col in data.columns:\n",
    "    print('Number of missing values in the attribute {}: {}'.format(col, data[col].isnull().sum()))"
   ]
  },
  {
   "cell_type": "code",
   "execution_count": 16,
   "id": "96a4e2c5",
   "metadata": {},
   "outputs": [
    {
     "data": {
      "text/plain": [
       "61    ['Hey man,     You cant be convinced and I cannot change your mind.  Okay.        I am going to tell you not to do this for a completely different reason than you would think.  I mean, consider it.  If you die it is nothing to me, right?  You are just words on a screen (not really - but I hope you understand how I mean this).  Really I have no vested interest in your survival.         However, I am interested in saving you from Pain.  I dont like Pain.  Never been much of a fan.  Theres too much Pain in the world already to inflict it on ourselves physically.        Effexor is NOT the drug you want to OD on.  Trust me.  I am no doctor or scientist but I have read the literature on how it works and have had some firsthand experience.        The first thing you need to understand when making this decision is that you *may* end up in a hospital.  You *may* end up in a great deal of Pain while you lie helpless in a hospital bed waiting to die, but you *may* not even know what is happening other than an experience of complete terror and regret.              The second thing, is even if somebody catches you in time and you survive you may have lasting damage.  Meaning you will *still* feel this way but even worse because of the damage youve inflicted on your body.  That is not even considering the embarrassment and other Emotional upset shit you will have to face from the reactions of those close to you / treating you.  It wouldnt be intentional, but people are people and someone nearly dying is pretty scary.  If you havent thought this far ahead about it or considered what would happen if you failed you are not ready to make a decision like this.           That is it.  Oh, also it will likely be an extremely uncomfortable thing even if you \"succeed.\"        Just give it a bit more thought dude, this isnt the way you want to go out or the decision you want to look back on and hate yourself even more for.    ', 'Hey guys.  I just want to thank you all for the support.  I will probably message a couple of you who offered.  If I dont message you then know that I am grateful for the thought and the reply.    Thank you.  ', 'I agree.  Were this service available I would take advantage of it immediately.  I am a mostly logical person with a sound state of mind.     It is incredibly frustrating that I am going to have to kill myself in a potentially Pain way if I do not want to do something illegal in the meantime to obtain the proper substances (fuck getting caught and ending up in jail though, stuff of nightmares).  Ive been dealing with it for long enough and it has not changed, why dont I have the option to check out easily?        I would be willing to take tests or do whatever in order to prove my \"sanity\" / rational state of mind.  ', 'Hey brother.  Youre not a sad little bitch.  Youre an alcoholic.  Which means these mood swings are normal.  It comes with the territory.      A former-engineering student that plays guitar.  Hmm.  I bet you would be pretty cool to hang out with / interesting to talk to.  Just thinking out loud.      I understand what youre going through, and while I obviously dont know your circumstances I get the feelings though.        I am not exactly qualified to give advice and no songs are popping into my mind at the moment.  But I want to let you know that you are (most likely) a worthwhile person.  Just extrapolating from what youve said and how you write.  Its in my best interest to keep people like you around on this rock, eh?      Sorry to hear about the family friend, and good luck dude.  Focus on the guitar.  Getting into the *flow* is just as good as any drug.  ', 'I doubt it.  Explain?  Or dont.      Heres something though, food for thought.  Nearly everybody you come into contact with is going to be more forgiving and kinder to you than you are to yourself.  If youre at this point doing this to you, man youre about the shittiest person in the world to you.     Also, you wouldnt be doing the world any favours.  The world doesnt care.  Youd only be doing yourself a favour.  This is not meant in either a positive or negative way, I just want to point it out.     ', 'Fuck outta here.  ', 'Yet surviving is a way to prove them wrong and laugh in their face.  Because you are doing well while they are still miserable people.  It can work both ways I think.  Most who have harmed you wont think that they have and would not think about your death for much longer than it took for them to hear about it (if they ever did).  ', 'Hey man,      My sister is married to a vet that does the exact same thing.  Yeah, it surely freaked her out at first.  But from what I understand he warned her it might happen.  They have been living happily together for 4 years now.      I mean, I dont really have any advice other than just be upfront about it with potential partners.  But it certainly is possible to have \"quirks\" like this and still be loved and respected as a \"normal\" person.  My brother-in-law is living proof.      Good luck with this one, but if she doesnt work out...  there are plenty more that might.  Youre not broken my friend.    ', 'Yes, that is pretty close.  It is spot-on that the \"Suicidal\" aspect is just a side effect, and not overly concerning.  As in, I am not overly concerned whether I live or die and death often seems the much superior option.  I am not saying that I couldnt or wouldnt commit suicide.  Because I would.  At the drop of a hat if it were guaranteed and easy.  Thus far it has not been worth the risk.  However, were life to change suddenly and become much more difficult...  The risk may be worth it.  I am in a relatively stable environment and secure in food/shelter.  Yet I feel like this now.  Were those circumstances to change, I just dont know man.  Really, I am mainly alive through apathy.  I could live, I could die, but there is risk in trying death and my basic needs are currently met.       So yes, I am certainly Suicidal but it is only a symptom of a larger thing.  ']\n",
       "Name: Post, dtype: object"
      ]
     },
     "execution_count": 16,
     "metadata": {},
     "output_type": "execute_result"
    }
   ],
   "source": [
    "# Visualize post with extra consecutive white spaces before formatting\n",
    "pd.set_option('display.max_colwidth', None)\n",
    "data[data['Post'].str.contains('              ')].Post"
   ]
  },
  {
   "cell_type": "code",
   "execution_count": 17,
   "id": "126ba95f",
   "metadata": {
    "scrolled": true
   },
   "outputs": [],
   "source": [
    "# Data Formatting: 1. delete consecutive white spaces (up to 14 consecutive white spaces)\n",
    "cws = '              '\n",
    "while len(cws) > 1:\n",
    "    data['Post'] = data['Post'].str.replace(cws, cws[:-1])\n",
    "    cws = cws[:-1]"
   ]
  },
  {
   "cell_type": "code",
   "execution_count": 18,
   "id": "defdb24c",
   "metadata": {},
   "outputs": [
    {
     "data": {
      "text/plain": [
       "User                                                                                                                                                                                                                                                                                                                                                                                                                                                                                                                                                                                                                                                                                                                                                                                                                                                                                                                                                                                                                                                                                                                                                                                                                                                                                                                                                                                                                                                                                                                                                                                                                                                                                                                                                                                                                                                                                                                                                                                                                                                                                                                                                                                                                                                                                                                                                                                                                                                                                                                                                                                                                                                                                                                                                                                                                                                                                                                                                                                                                                                                                                                                                                                                                                                                                                                                                                                                                                                                                                                                                                                                                                                                                                                                                                                                                                                                                                                                                                                                                                                                                                                                                                                                                                                                                                                                                                                                                                                                                                                                                                                                                                                                                                                                                                                                                                                                                                                                                                                                                                                                                                                                                                                                                                                                                                                                                                                                                                                                                                                                                                                                                                                                                                                                                                                                                                                                                                                                                                                                                                                  user-61\n",
       "Post     ['Hey man, You cant be convinced and I cannot change your mind. Okay. I am going to tell you not to do this for a completely different reason than you would think. I mean, consider it. If you die it is nothing to me, right? You are just words on a screen (not really - but I hope you understand how I mean this). Really I have no vested interest in your survival. However, I am interested in saving you from Pain. I dont like Pain. Never been much of a fan. Theres too much Pain in the world already to inflict it on ourselves physically. Effexor is NOT the drug you want to OD on. Trust me. I am no doctor or scientist but I have read the literature on how it works and have had some firsthand experience. The first thing you need to understand when making this decision is that you *may* end up in a hospital. You *may* end up in a great deal of Pain while you lie helpless in a hospital bed waiting to die, but you *may* not even know what is happening other than an experience of complete terror and regret. The second thing, is even if somebody catches you in time and you survive you may have lasting damage. Meaning you will *still* feel this way but even worse because of the damage youve inflicted on your body. That is not even considering the embarrassment and other Emotional upset shit you will have to face from the reactions of those close to you / treating you. It wouldnt be intentional, but people are people and someone nearly dying is pretty scary. If you havent thought this far ahead about it or considered what would happen if you failed you are not ready to make a decision like this. That is it. Oh, also it will likely be an extremely uncomfortable thing even if you \"succeed.\" Just give it a bit more thought dude, this isnt the way you want to go out or the decision you want to look back on and hate yourself even more for. ', 'Hey guys. I just want to thank you all for the support. I will probably message a couple of you who offered. If I dont message you then know that I am grateful for the thought and the reply. Thank you. ', 'I agree. Were this service available I would take advantage of it immediately. I am a mostly logical person with a sound state of mind. It is incredibly frustrating that I am going to have to kill myself in a potentially Pain way if I do not want to do something illegal in the meantime to obtain the proper substances (fuck getting caught and ending up in jail though, stuff of nightmares). Ive been dealing with it for long enough and it has not changed, why dont I have the option to check out easily? I would be willing to take tests or do whatever in order to prove my \"sanity\" / rational state of mind. ', 'Hey brother. Youre not a sad little bitch. Youre an alcoholic. Which means these mood swings are normal. It comes with the territory. A former-engineering student that plays guitar. Hmm. I bet you would be pretty cool to hang out with / interesting to talk to. Just thinking out loud. I understand what youre going through, and while I obviously dont know your circumstances I get the feelings though. I am not exactly qualified to give advice and no songs are popping into my mind at the moment. But I want to let you know that you are (most likely) a worthwhile person. Just extrapolating from what youve said and how you write. Its in my best interest to keep people like you around on this rock, eh? Sorry to hear about the family friend, and good luck dude. Focus on the guitar. Getting into the *flow* is just as good as any drug. ', 'I doubt it. Explain? Or dont. Heres something though, food for thought. Nearly everybody you come into contact with is going to be more forgiving and kinder to you than you are to yourself. If youre at this point doing this to you, man youre about the shittiest person in the world to you. Also, you wouldnt be doing the world any favours. The world doesnt care. Youd only be doing yourself a favour. This is not meant in either a positive or negative way, I just want to point it out. ', 'Fuck outta here. ', 'Yet surviving is a way to prove them wrong and laugh in their face. Because you are doing well while they are still miserable people. It can work both ways I think. Most who have harmed you wont think that they have and would not think about your death for much longer than it took for them to hear about it (if they ever did). ', 'Hey man, My sister is married to a vet that does the exact same thing. Yeah, it surely freaked her out at first. But from what I understand he warned her it might happen. They have been living happily together for 4 years now. I mean, I dont really have any advice other than just be upfront about it with potential partners. But it certainly is possible to have \"quirks\" like this and still be loved and respected as a \"normal\" person. My brother-in-law is living proof. Good luck with this one, but if she doesnt work out... there are plenty more that might. Youre not broken my friend. ', 'Yes, that is pretty close. It is spot-on that the \"Suicidal\" aspect is just a side effect, and not overly concerning. As in, I am not overly concerned whether I live or die and death often seems the much superior option. I am not saying that I couldnt or wouldnt commit suicide. Because I would. At the drop of a hat if it were guaranteed and easy. Thus far it has not been worth the risk. However, were life to change suddenly and become much more difficult... The risk may be worth it. I am in a relatively stable environment and secure in food/shelter. Yet I feel like this now. Were those circumstances to change, I just dont know man. Really, I am mainly alive through apathy. I could live, I could die, but there is risk in trying death and my basic needs are currently met. So yes, I am certainly Suicidal but it is only a symptom of a larger thing. ']\n",
       "Label                                                                                                                                                                                                                                                                                                                                                                                                                                                                                                                                                                                                                                                                                                                                                                                                                                                                                                                                                                                                                                                                                                                                                                                                                                                                                                                                                                                                                                                                                                                                                                                                                                                                                                                                                                                                                                                                                                                                                                                                                                                                                                                                                                                                                                                                                                                                                                                                                                                                                                                                                                                                                                                                                                                                                                                                                                                                                                                                                                                                                                                                                                                                                                                                                                                                                                                                                                                                                                                                                                                                                                                                                                                                                                                                                                                                                                                                                                                                                                                                                                                                                                                                                                                                                                                                                                                                                                                                                                                                                                                                                                                                                                                                                                                                                                                                                                                                                                                                                                                                                                                                                                                                                                                                                                                                                                                                                                                                                                                                                                                                                                                                                                                                                                                                                                                                                                                                                                                                                                                                                                                 Attempt\n",
       "Name: 61, dtype: object"
      ]
     },
     "execution_count": 18,
     "metadata": {},
     "output_type": "execute_result"
    }
   ],
   "source": [
    "# Visualize post with extra consecutive white spaces after formatting\n",
    "data.loc[61]"
   ]
  },
  {
   "cell_type": "code",
   "execution_count": 19,
   "id": "22dc5459",
   "metadata": {
    "scrolled": false
   },
   "outputs": [
    {
     "data": {
      "text/plain": [
       "0      ['Its not a viable option, and youll be leavin...\n",
       "1      ['It can be hard to appreciate the notion that...\n",
       "2      ['Hi, so last night i was sitting on the ledge...\n",
       "3      ['I tried to kill my self once and failed badl...\n",
       "4      ['Hi NEM3030. What sorts of things do you enjo...\n",
       "                             ...                        \n",
       "495    ['Its not the end, it just feels that way. Or ...\n",
       "496    ['It was a skype call, but she ended it and Ve...\n",
       "497    ['That sounds really weird.Maybe you were Dist...\n",
       "498    ['Dont know there as dumb as it sounds I feel ...\n",
       "499    ['&gt;It gets better, trust me.Ive spent long ...\n",
       "Name: Post, Length: 500, dtype: object"
      ]
     },
     "execution_count": 19,
     "metadata": {},
     "output_type": "execute_result"
    }
   ],
   "source": [
    "#Data Formatting: 2. remove leading and trailing whie spaces\n",
    "data.Post.str.strip()\n",
    "pd.set_option('display.max_colwidth', 50)\n",
    "data.Post"
   ]
  },
  {
   "cell_type": "markdown",
   "id": "257fefc3",
   "metadata": {},
   "source": [
    "### 3.2. Exploratory Data Analysis <a name=eda></a>"
   ]
  },
  {
   "cell_type": "code",
   "execution_count": 20,
   "id": "c84e91da",
   "metadata": {},
   "outputs": [],
   "source": [
    "import matplotlib.pyplot as plt"
   ]
  },
  {
   "cell_type": "code",
   "execution_count": 21,
   "id": "ace2fc3d",
   "metadata": {},
   "outputs": [
    {
     "data": {
      "text/html": [
       "<div>\n",
       "<style scoped>\n",
       "    .dataframe tbody tr th:only-of-type {\n",
       "        vertical-align: middle;\n",
       "    }\n",
       "\n",
       "    .dataframe tbody tr th {\n",
       "        vertical-align: top;\n",
       "    }\n",
       "\n",
       "    .dataframe thead th {\n",
       "        text-align: right;\n",
       "    }\n",
       "</style>\n",
       "<table border=\"1\" class=\"dataframe\">\n",
       "  <thead>\n",
       "    <tr style=\"text-align: right;\">\n",
       "      <th></th>\n",
       "      <th>User</th>\n",
       "      <th>Post</th>\n",
       "      <th>Label</th>\n",
       "    </tr>\n",
       "  </thead>\n",
       "  <tbody>\n",
       "    <tr>\n",
       "      <th>count</th>\n",
       "      <td>500</td>\n",
       "      <td>500</td>\n",
       "      <td>500</td>\n",
       "    </tr>\n",
       "    <tr>\n",
       "      <th>unique</th>\n",
       "      <td>500</td>\n",
       "      <td>500</td>\n",
       "      <td>5</td>\n",
       "    </tr>\n",
       "    <tr>\n",
       "      <th>top</th>\n",
       "      <td>user-0</td>\n",
       "      <td>['Its not a viable option, and youll be leavin...</td>\n",
       "      <td>Ideation</td>\n",
       "    </tr>\n",
       "    <tr>\n",
       "      <th>freq</th>\n",
       "      <td>1</td>\n",
       "      <td>1</td>\n",
       "      <td>171</td>\n",
       "    </tr>\n",
       "  </tbody>\n",
       "</table>\n",
       "</div>"
      ],
      "text/plain": [
       "          User                                               Post     Label\n",
       "count      500                                                500       500\n",
       "unique     500                                                500         5\n",
       "top     user-0  ['Its not a viable option, and youll be leavin...  Ideation\n",
       "freq         1                                                  1       171"
      ]
     },
     "execution_count": 21,
     "metadata": {},
     "output_type": "execute_result"
    }
   ],
   "source": [
    "data.describe()"
   ]
  },
  {
   "cell_type": "markdown",
   "id": "882f2917",
   "metadata": {},
   "source": [
    "Users whose posts have been labelled as \"Ideation\" are the majority. Let's plot a frequency distribtion plot to see how classes are distributed, and each class percentage over the total."
   ]
  },
  {
   "cell_type": "code",
   "execution_count": 22,
   "id": "0e85c268",
   "metadata": {},
   "outputs": [
    {
     "data": {
      "image/png": "[encoded data removed]",
      "text/plain": [
       "<Figure size 500x300 with 1 Axes>"
      ]
     },
     "metadata": {},
     "output_type": "display_data"
    }
   ],
   "source": [
    "#plt.rcParams['axes.facecolor'] = 'white'\n",
    "class_freq = data.groupby(['Label']).size()\n",
    "barchart = class_freq.plot(x=class_freq.index, y=class_freq, kind='barh', figsize=(5,3), color='navy', xlim=(0,185))\n",
    "\n",
    "for i in barchart.patches:\n",
    "    barchart.annotate(i.get_width(), # get the frequency of the variable categories\n",
    "                      xy = (i.get_width()+2, i.get_y() + i.get_height()-0.25), # set the coordinates for each label\n",
    "                      ha='left', # set the horizontal alignment\n",
    "                      va='center', # set the vertical alignment\n",
    "                      fontsize=7) # set the font size\n",
    "\n",
    "plt.title('Frequency distribution of classes', fontsize=10)\n",
    "plt.xlabel(\"Classes\", fontsize=9)\n",
    "plt.ylabel('Frequency', fontsize=9)\n",
    "plt.yticks(fontsize=8)\n",
    "plt.xticks(fontsize=8)\n",
    "\n",
    "plt.grid(True, axis='x', color='gainsboro', ls= ':', linewidth=0.8)\n",
    "plt.show()"
   ]
  },
  {
   "cell_type": "code",
   "execution_count": 23,
   "id": "6eba0303",
   "metadata": {},
   "outputs": [
    {
     "data": {
      "image/png": "[encoded data removed]",
      "text/plain": [
       "<Figure size 500x500 with 1 Axes>"
      ]
     },
     "metadata": {},
     "output_type": "display_data"
    }
   ],
   "source": [
    "data['Label'].value_counts().plot(kind='pie',\n",
    "                                  figsize=(5,5), # set axis lengths\n",
    "                                  autopct='%1.1f%%',\n",
    "                                  startangle=0, # rotates the start of the pie by ... degree counter-clock wise\n",
    "                                  shadow=False, #add a shadow\n",
    "                                  labels=data['Label'].value_counts().index,\n",
    "                                  pctdistance=0.5, # push out the slice values\n",
    "                                  colors=['dodgerblue','green','blue','darkviolet','purple'],\n",
    "                                  fontsize=9.5,\n",
    "                                  explode=[0.01,0.01,0.01,0.01,0.01])\n",
    "\n",
    "plt.title('Breakdown of the classes', fontsize=11)\n",
    "plt.axis('off')\n",
    "plt.show()"
   ]
  },
  {
   "cell_type": "code",
   "execution_count": 24,
   "id": "4a0d648c",
   "metadata": {
    "scrolled": false
   },
   "outputs": [
    {
     "name": "stderr",
     "output_type": "stream",
     "text": [
      "C:\\Users\\sebas\\AppData\\Local\\Temp\\ipykernel_6756\\3769143197.py:17: UserWarning: FixedFormatter should only be used together with FixedLocator\n",
      "  barchart.set_xticklabels(range(0,180,25), fontsize=8.5)\n"
     ]
    },
    {
     "data": {
      "image/png": "[encoded data removed]",
      "text/plain": [
       "<Figure size 1300x500 with 2 Axes>"
      ]
     },
     "metadata": {},
     "output_type": "display_data"
    }
   ],
   "source": [
    "fig = plt.figure(figsize=(13,5))\n",
    "barchart = fig.add_subplot(1,2,1) \n",
    "piechart = fig.add_subplot(1,2,2)\n",
    "\n",
    "\n",
    "class_freq.plot(x=class_freq.index, y=class_freq, kind='barh', color='navy', xlim=(0,185), ax=barchart)\n",
    "for i in barchart.patches:\n",
    "    barchart.annotate(i.get_width(), # get the frequency of the variable categories\n",
    "                      xy = (i.get_width()+2, i.get_y() + i.get_height()-0.25), # set the coordinates for each label\n",
    "                      ha='left', # set the horizontal alignment\n",
    "                      va='center', # set the vertical alignment\n",
    "                      fontsize=7) # set the font size\n",
    "\n",
    "barchart.set_title('Frequency distribution of classes', fontsize=11)\n",
    "barchart.set_xlabel(\"Classes\", fontsize=9)\n",
    "barchart.set_ylabel('Frequency', fontsize=9)\n",
    "barchart.set_xticklabels(range(0,180,25), fontsize=8.5)\n",
    "barchart.set_yticklabels(class_freq.index, fontsize=8.5)\n",
    "barchart.grid(True, axis='x', color='gainsboro', ls= ':', linewidth=0.8)\n",
    "\n",
    "data['Label'].value_counts().plot(kind='pie',\n",
    "                                  #figsize=(3,3), # set axis lengths\n",
    "                                  autopct='%1.1f%%',\n",
    "                                  startangle=0, # rotates the start of the pie by ... degree counter-clock wise\n",
    "                                  shadow=False, #add a shadow\n",
    "                                  labels=data['Label'].value_counts().index,\n",
    "                                  pctdistance=0.6, # push out the slice values\n",
    "                                  colors=['dodgerblue','green','blue','darkviolet','purple'],\n",
    "                                  fontsize=10,\n",
    "                                  explode=[0.01,0.01,0.01,0.01,0.01],\n",
    "                                  ax=piechart)\n",
    "\n",
    "piechart.set_title('Breakdown of the classes', fontsize=11)\n",
    "piechart.set_ylabel('')\n",
    "\n",
    "fig.suptitle('Exploratory Data Analysys: frequency and breakdown of the classes', fontsize=12)\n",
    "plt.tight_layout(pad=1.08)\n",
    "plt.show()"
   ]
  },
  {
   "cell_type": "markdown",
   "id": "f9ec49d2",
   "metadata": {},
   "source": [
    "NEXT STEPS FOR EDA:\n",
    "- WORDCLOUDS per each class\n",
    "- class description"
   ]
  },
  {
   "cell_type": "markdown",
   "id": "48a0abdd",
   "metadata": {},
   "source": [
    "---"
   ]
  },
  {
   "cell_type": "code",
   "execution_count": 34,
   "id": "39619e13",
   "metadata": {},
   "outputs": [],
   "source": [
    "import keras"
   ]
  },
  {
   "cell_type": "code",
   "execution_count": 35,
   "id": "039e90cb",
   "metadata": {},
   "outputs": [],
   "source": [
    "from tensorflow.keras.models import Sequential"
   ]
  },
  {
   "cell_type": "markdown",
   "id": "daaeeafc",
   "metadata": {},
   "source": [
    "sources for data-preprocessing:\n",
    "- https://towardsdatascience.com/generating-text-with-recurrent-neural-networks-based-on-the-work-of-f-pessoa-1e804d88692d\n",
    "- https://towardsdatascience.com/recurrent-neural-networks-by-example-in-python-ffd204f99470\n",
    "- https://medium0.com/@saad.arshad102/sentiment-analysis-text-classification-using-rnn-bi-lstm-recurrent-neural-network-81086dda8472\n",
    "\n",
    "STEPS:\n",
    "1. Remove punctuation (debatable) -> probably the right thing to do for text classification\n",
    "2. Lower case all words (debatable) -> probably the right thing to do for text classification\n",
    "2. Split strings into lists of individual words -> Tokenize the posts\n",
    "4. Remove stop words (debatable)\n",
    "3. Convert the individual words into integers"
   ]
  },
  {
   "cell_type": "markdown",
   "id": "d450cbbc",
   "metadata": {},
   "source": [
    "---"
   ]
  },
  {
   "cell_type": "markdown",
   "id": "93bdc1f5",
   "metadata": {},
   "source": [
    "data source: https://www.kaggle.com/datasets/thedevastator/c-ssrs-labeled-suicidality-in-500-anonymized-red\n",
    "https://zenodo.org/record/2667859#.Y9aqCXZBw2z"
   ]
  },
  {
   "cell_type": "code",
   "execution_count": null,
   "id": "d6200b10",
   "metadata": {},
   "outputs": [],
   "source": [
    "import pandas as pd\n",
    "data = pd.read_csv(r'500_anonymized_Reddit_users_posts_labels.csv')"
   ]
  },
  {
   "cell_type": "code",
   "execution_count": null,
   "id": "bc9acb21",
   "metadata": {},
   "outputs": [],
   "source": [
    "data"
   ]
  },
  {
   "cell_type": "code",
   "execution_count": null,
   "id": "2f9dc4a2",
   "metadata": {},
   "outputs": [],
   "source": [
    "data.loc[26:27]"
   ]
  },
  {
   "cell_type": "code",
   "execution_count": null,
   "id": "5dccb52d",
   "metadata": {},
   "outputs": [],
   "source": [
    "data.loc[76:78]"
   ]
  },
  {
   "cell_type": "code",
   "execution_count": null,
   "id": "37da8e21",
   "metadata": {},
   "outputs": [],
   "source": [
    "data.shape"
   ]
  },
  {
   "cell_type": "code",
   "execution_count": null,
   "id": "ef5e58c2",
   "metadata": {},
   "outputs": [],
   "source": [
    "data_1 = pd.read_csv(r'500_Reddit_users_posts_labels.csv')"
   ]
  },
  {
   "cell_type": "code",
   "execution_count": null,
   "id": "b1a583e5",
   "metadata": {},
   "outputs": [],
   "source": [
    "data_1"
   ]
  },
  {
   "cell_type": "code",
   "execution_count": null,
   "id": "922417ca",
   "metadata": {},
   "outputs": [],
   "source": [
    "data_1.loc[26:27]"
   ]
  },
  {
   "cell_type": "code",
   "execution_count": null,
   "id": "2c78a120",
   "metadata": {},
   "outputs": [],
   "source": [
    "data_1.loc[76:78]"
   ]
  },
  {
   "cell_type": "code",
   "execution_count": null,
   "id": "ca0cfddd",
   "metadata": {},
   "outputs": [],
   "source": [
    "data_1.loc[497:]"
   ]
  },
  {
   "cell_type": "code",
   "execution_count": null,
   "id": "32ced173",
   "metadata": {},
   "outputs": [],
   "source": [
    "data_1.shape"
   ]
  }
 ],
 "metadata": {
  "kernelspec": {
   "display_name": "Python 3 (ipykernel)",
   "language": "python",
   "name": "python3"
  },
  "language_info": {
   "codemirror_mode": {
    "name": "ipython",
    "version": 3
   },
   "file_extension": ".py",
   "mimetype": "text/x-python",
   "name": "python",
   "nbconvert_exporter": "python",
   "pygments_lexer": "ipython3",
   "version": "3.8.13"
  }
 },
 "nbformat": 4,
 "nbformat_minor": 5
}
